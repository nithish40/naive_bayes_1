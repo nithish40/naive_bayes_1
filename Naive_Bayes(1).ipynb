{
  "nbformat": 4,
  "nbformat_minor": 0,
  "metadata": {
    "colab": {
      "provenance": []
    },
    "kernelspec": {
      "name": "python3",
      "display_name": "Python 3"
    },
    "language_info": {
      "name": "python"
    }
  },
  "cells": [
    {
      "cell_type": "code",
      "execution_count": 40,
      "metadata": {
        "colab": {
          "base_uri": "https://localhost:8080/"
        },
        "id": "Vb2JvPvaAPBI",
        "outputId": "ab86c7ac-6efa-4c64-87c5-e901d369c42d"
      },
      "outputs": [
        {
          "output_type": "stream",
          "name": "stdout",
          "text": [
            "   Day   Outlook Temp. Humidity    Wind Decision\n",
            "0    1     Sunny   Hot     High    Weak       No\n",
            "1    2     Sunny   Hot     High  Strong       No\n",
            "2    3  Overcast   Hot     High    Weak      Yes\n",
            "3    4      Rain  Mild     High    Weak      Yes\n",
            "4    5      Rain  Cool   Normal    Weak      Yes\n"
          ]
        }
      ],
      "source": [
        "import pandas as pd\n",
        "from sklearn.model_selection import train_test_split\n",
        "from sklearn.naive_bayes import GaussianNB\n",
        "from sklearn.metrics import confusion_matrix, accuracy_score, classification_report,f1_score\n",
        "from sklearn.preprocessing import LabelEncoder\n",
        "\n",
        "data=pd.read_csv('/content/drive/MyDrive/Colab Notebooks/Enjoy sports.csv')\n",
        "print(data.head())"
      ]
    },
    {
      "cell_type": "code",
      "source": [
        "\n",
        "x=data.drop('Decision', axis=1)\n",
        "y=data['Decision']\n",
        "print(x)"
      ],
      "metadata": {
        "colab": {
          "base_uri": "https://localhost:8080/"
        },
        "id": "HxCCzPjgClhg",
        "outputId": "30ad02f9-8b4d-4cc7-8436-8e386e4b4e01"
      },
      "execution_count": 36,
      "outputs": [
        {
          "output_type": "stream",
          "name": "stdout",
          "text": [
            "    Day   Outlook Temp. Humidity    Wind\n",
            "0     1     Sunny   Hot     High    Weak\n",
            "1     2     Sunny   Hot     High  Strong\n",
            "2     3  Overcast   Hot     High    Weak\n",
            "3     4      Rain  Mild     High    Weak\n",
            "4     5      Rain  Cool   Normal    Weak\n",
            "5     6      Rain  Cool   Normal  Strong\n",
            "6     7  Overcast  Cool   Normal  Strong\n",
            "7     8     Sunny  Mild     High    Weak\n",
            "8     9     Sunny  Cool   Normal    Weak\n",
            "9    10      Rain  Mild   Normal    Weak\n",
            "10   11     Sunny  Mild   Normal  Strong\n",
            "11   12  Overcast  Mild     High  Strong\n",
            "12   13  Overcast   Hot   Normal    Weak\n",
            "13   14      Rain  Mild     High  Strong\n"
          ]
        }
      ]
    },
    {
      "cell_type": "code",
      "source": [
        "label=LabelEncoder()\n",
        "x['Outlook']=label.fit_transform(x['Outlook'])\n",
        "x['Temp.']=label.fit_transform(x['Temp.'])\n",
        "x['Humidity']=label.fit_transform(x['Humidity'])\n",
        "x['Wind']=label.fit_transform(x['Wind'])\n",
        "y=label.fit_transform(y)\n",
        "x=x.drop('Day',axis=1)\n",
        "print(x)"
      ],
      "metadata": {
        "colab": {
          "base_uri": "https://localhost:8080/"
        },
        "id": "PLL4p3RgISMe",
        "outputId": "dd5bdbfb-1e4e-462a-b336-bd1577b7fd89"
      },
      "execution_count": 37,
      "outputs": [
        {
          "output_type": "stream",
          "name": "stdout",
          "text": [
            "    Outlook  Temp.  Humidity  Wind\n",
            "0         2      1         0     1\n",
            "1         2      1         0     0\n",
            "2         0      1         0     1\n",
            "3         1      2         0     1\n",
            "4         1      0         1     1\n",
            "5         1      0         1     0\n",
            "6         0      0         1     0\n",
            "7         2      2         0     1\n",
            "8         2      0         1     1\n",
            "9         1      2         1     1\n",
            "10        2      2         1     0\n",
            "11        0      2         0     0\n",
            "12        0      1         1     1\n",
            "13        1      2         0     0\n"
          ]
        }
      ]
    },
    {
      "cell_type": "code",
      "source": [
        "x_train, x_test, y_train, y_test=train_test_split(x, y,test_size=0.2,random_state=0)\n",
        "model=GaussianNB()\n",
        "model.fit(x_train, y_train)\n",
        "y_pred=model.predict(x_test)\n",
        "\n",
        "accuracy=accuracy_score(y_test, y_pred)\n",
        "f1 = f1_score(y_pred, y_test, average=\"weighted\")\n",
        "\n",
        "print(\"Accuracy:\", accuracy)\n",
        "print(\"F1 Score:\", f1)\n",
        "\n",
        "conf_matrix = confusion_matrix(y_test, y_pred, labels=[0, 1, 2] )\n",
        "print(\"Confusion Matrix:\")\n",
        "print(conf_matrix)"
      ],
      "metadata": {
        "colab": {
          "base_uri": "https://localhost:8080/"
        },
        "id": "lFL_MJCjHQh4",
        "outputId": "d3e86336-a1ec-4a6a-f1e2-7df6187837f4"
      },
      "execution_count": 39,
      "outputs": [
        {
          "output_type": "stream",
          "name": "stdout",
          "text": [
            "Accuracy: 0.3333333333333333\n",
            "F1 Score: 0.16666666666666666\n",
            "Confusion Matrix:\n",
            "[[0 0 0]\n",
            " [2 1 0]\n",
            " [0 0 0]]\n"
          ]
        }
      ]
    }
  ]
}